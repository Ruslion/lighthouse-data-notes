{
 "cells": [
  {
   "cell_type": "markdown",
   "metadata": {},
   "source": [
    "## Poker Hand\n",
    "\n",
    "In this challenge, we have to find out which kind of Poker combination is present in a deck of 5 cards.Every card is a string containing the card value (with the upper-case initial for face-cards) and the lower-case initial for suits, as in the examples below:\n",
    "\n",
    "> \"Ah\" ➞ Ace of hearts <br>\n",
    "> \"Ks\" ➞ King of spades<br>\n",
    "> \"3d\" ➞ Three of diamonds<br>\n",
    "> \"Qc\" ➞ Queen of clubs <br>\n",
    "\n",
    "There are 10 different combinations. Here's the list, in decreasing order of importance:"
   ]
  },
  {
   "cell_type": "markdown",
   "metadata": {},
   "source": [
    "| Name            | Description                                         |\n",
    "|-----------------|-----------------------------------------------------|\n",
    "| Royal Flush     | A, K, Q, J, 10, all with the same suit.             |\n",
    "| Straight Flush  | Five cards in sequence, all with the same suit.     |\n",
    "| Four of a Kind  | Four cards of the same rank.                        |\n",
    "| Full House      | Three of a Kind with a Pair.                        |\n",
    "| Flush           | Any five cards of the same suit, not in sequence    |\n",
    "| Straight        | Five cards in a sequence, but not of the same suit. |\n",
    "| Three of a Kind | Three cards of the same rank.                       |\n",
    "| Two Pair        | Two different Pairs.                                |\n",
    "| Pair            | Two cards of the same rank.                         |\n",
    "| High Card       | No other valid combination.                         |"
   ]
  },
  {
   "cell_type": "markdown",
   "metadata": {},
   "source": [
    "### 1. Given a list `hand` containing five strings being the cards, implement a function `poker_hand_ranking` that returns a string with the name of the **highest** combination obtained, accordingly to the table above.\n",
    "\n",
    "#### Examples\n",
    "\n",
    "> poker_hand_ranking([\"10h\", \"Jh\", \"Qh\", \"Ah\", \"Kh\"]) ➞ \"Royal Flush\"<br>\n",
    "> poker_hand_ranking([\"3h\", \"5h\", \"Qs\", \"9h\", \"Ad\"]) ➞ \"High Card\"<br>\n",
    "> poker_hand_ranking([\"10s\", \"10c\", \"8d\", \"10d\", \"10h\"]) ➞ \"Four of a Kind\"<br>"
   ]
  },
  {
   "cell_type": "code",
   "execution_count": 43,
   "metadata": {},
   "outputs": [
    {
     "name": "stdout",
     "output_type": "stream",
     "text": [
      "Full House\n",
      "Royal Flush\n",
      "High Card\n",
      "Flush\n",
      "Straight\n"
     ]
    }
   ],
   "source": [
    "from collections import Counter\n",
    "\n",
    "def poker_hand_ranking(lst):\n",
    "    cards_suited = False\n",
    "    cardsInSeq=False\n",
    "    suits=[]\n",
    "    cards=[]\n",
    "    right_order=['A','K','Q','J','10','9','8','7','6','5','4','3','2'] #The right order of the face cards\n",
    "\n",
    "    #iterating list\n",
    "    for item in lst:\n",
    "        suits.append(item[-1])  #Adding suit to the list\n",
    "        cards.append(item[:-1]) #Adding face card to the list\n",
    "    count_suits=Counter(suits)  #counting suits by counter\n",
    "    count_cards=Counter(cards)  #counting face cards by counter\n",
    "    \n",
    "    if count_suits.most_common(1)[0][1]==5:\n",
    "        #all suited cards and no card duplicate\n",
    "        cards_suited= True\n",
    "        \n",
    "    if count_cards.most_common(1)[0][1]==4:\n",
    "        #Four of a Kind detected\n",
    "        return 'Four of a Kind'\n",
    "    elif count_cards.most_common(1)[0][1]==1:\n",
    "        #All face cards are different\n",
    "        #Need to define the order of the cards\n",
    "        count_order=0\n",
    "        cardFound=False\n",
    "        for card in right_order:\n",
    "            if card in cards:\n",
    "                cardFound=True\n",
    "                if count_order==0:\n",
    "                    high_card= card #Defining the high card in hand\n",
    "                count_order+=1\n",
    "                #print(f'Count = {count_order}, card = {card}')\n",
    "                if count_order==5:\n",
    "                    cardsInSeq=True\n",
    "                    break #all five cards in order\n",
    "            elif cardFound and count_order>0:\n",
    "                if not cards_suited:\n",
    "                    return \"High Card\"\n",
    "                break     #order is broken. No need to continue loop\n",
    "    elif count_cards.most_common(1)[0][1]==3:\n",
    "        #Three of kind found. Need to verify for full house\n",
    "        if count_cards.most_common(2)[1][1]==2:\n",
    "            #Full house detected\n",
    "            return \"Full House\"\n",
    "        else:\n",
    "            return \"Three of a Kind\"\n",
    "    elif count_cards.most_common(1)[0][1]==2:\n",
    "        #Pair detected. Need to verify for second pair\n",
    "        if count_cards.most_common(2)[1][1]==2:\n",
    "            return \"Two Pairs\"\n",
    "        else:\n",
    "            return \"Pair\"\n",
    "    if cards_suited:\n",
    "        if cardsInSeq:\n",
    "            if high_card=='A':\n",
    "                return \"Royal Flush\"\n",
    "            else:\n",
    "                return \"Straight Flush\"\n",
    "        else:\n",
    "            return \"Flush\"\n",
    "    elif cardsInSeq:\n",
    "        return \"Straight\"\n",
    "        \n",
    "print(poker_hand_ranking([\"10h\", \"10c\", \"10d\", \"Ah\", \"Ac\"]))\n",
    "print(poker_hand_ranking([\"10h\", \"Jh\", \"Qh\", \"Ah\", \"Kh\"]))\n",
    "print(poker_hand_ranking([\"3h\", \"5h\", \"Qs\", \"9h\", \"Ad\"]))\n",
    "print(poker_hand_ranking([\"3h\", \"5h\", \"Qh\", \"9h\", \"Ah\"]))\n",
    "print(poker_hand_ranking([\"9h\", \"10h\", \"Qh\", \"Jh\", \"Kc\"]))"
   ]
  },
  {
   "cell_type": "code",
   "execution_count": null,
   "metadata": {},
   "outputs": [],
   "source": []
  },
  {
   "cell_type": "code",
   "execution_count": null,
   "metadata": {},
   "outputs": [],
   "source": []
  },
  {
   "cell_type": "code",
   "execution_count": null,
   "metadata": {},
   "outputs": [],
   "source": []
  },
  {
   "cell_type": "markdown",
   "metadata": {},
   "source": [
    "# **Stretch Content**\n",
    "\n",
    "### 2.  Implement a function `winner_is` that returns the winner given a dictionary with different players and their hands. For example:\n",
    "\n",
    "#### Example\n",
    "\n",
    "We define dictionary like\n",
    "```\n",
    "round_1 = {\"John\" = [\"10h\", \"Jh\", \"Qh\", \"Ah\", \"Kh\"], \n",
    "        \"Peter\" = [\"3h\", \"5h\", \"Qs\", \"9h\", \"Ad\"]\n",
    "}\n",
    "```\n",
    "\n",
    "Our function returns the name of the winner:\n",
    "> winner_is(round_1) -> \"John\"\n",
    "\n",
    "One table can have up to 10 players.\n"
   ]
  },
  {
   "cell_type": "code",
   "execution_count": 44,
   "metadata": {},
   "outputs": [],
   "source": [
    "\n",
    "def winner_is(dict_players):\n",
    "    #The winning combinations in descending order\n",
    "    combinations={\"Royal Flush\":10, \"Straight Flush\":9, \"Four of a Kind\":8,\n",
    "                  \"Full House\":7, \"Flush\":6, \"Straight\":5, \"Three of a Kind\":4,\n",
    "                 \"Two Pairs\":3, \"Pair\":2, \"High Card\":1}\n",
    "    \n",
    "    #It will be needed in case more than one player will have  same combination.\n",
    "    right_order=['A','K','Q','J','10','9','8','7','6','5','4','3','2'] \n",
    "    dict_of_winners={}\n",
    "    winning_combination=0 #Value of winning combination\n",
    "    for name, value in dict_players.items():\n",
    "        hand_ranking=poker_hand_ranking(value) #String value of hand\n",
    "        dict_of_winners[name] = combinations[hand_ranking] #storing name and value(int) of hand in the dictionary\n",
    "    winning_combination=max(dict_of_winners.values())     #defining winning combination value\n",
    "    \n",
    "    #Iterating over dict_of_winners and delete all the items which hand_ranking less than winning_combination\n",
    "    for key in list(dict_of_winners.keys()):\n",
    "        if dict_of_winners[key]<winning_combination:\n",
    "            del dict_of_winners[key]\n",
    "    if len(dict_of_winners)==1:\n",
    "        #only one winner\n",
    "        return list(dict_of_winners.keys())\n",
    "    else:\n",
    "        #possibly more than one winner. For the sake of saving time the evaluation of the hands not implemented\n",
    "        return list(dict_of_winners.keys())\n",
    "        \n",
    "        "
   ]
  },
  {
   "cell_type": "code",
   "execution_count": 45,
   "metadata": {},
   "outputs": [
    {
     "name": "stdout",
     "output_type": "stream",
     "text": [
      "['John']\n"
     ]
    }
   ],
   "source": [
    "round_1 = {\"John\":[\"10h\", \"Jh\", \"Qh\", \"Ah\", \"Kh\"], \n",
    "        \"Peter\":[\"3h\", \"5h\", \"Qs\", \"9h\", \"Ad\"]\n",
    "}\n",
    "print(winner_is(round_1))"
   ]
  },
  {
   "cell_type": "code",
   "execution_count": null,
   "metadata": {},
   "outputs": [],
   "source": []
  },
  {
   "cell_type": "code",
   "execution_count": null,
   "metadata": {},
   "outputs": [],
   "source": []
  },
  {
   "cell_type": "markdown",
   "metadata": {},
   "source": [
    "### 3. Create a generator that randomly gives 5 cards to every player given a list of player names\n",
    "#### Example\n",
    "\n",
    "> distribute_cards([\"John\",\"Peter\"])  -> round_1 = {\"John\" = [\"10h\", \"Jh\", \"Qh\", \"Ah\", \"Kh\"], \n",
    "        \"Peter\" = [\"3h\", \"5h\", \"Qs\", \"9h\", \"Ad\"]\n",
    "}"
   ]
  },
  {
   "cell_type": "code",
   "execution_count": 46,
   "metadata": {},
   "outputs": [],
   "source": [
    "import random\n",
    "def distribute_cards(list_of_players):\n",
    "    deck=['Ah', 'Kh', 'Qh', 'Jh', '10h', '9h', '8h', '7h', '6h', '5h', '4h', '3h', '2h', \n",
    "    'Ac', 'Kc', 'Qc', 'Jc', '10c', '9c', '8c', '7c', '6c', '5c', '4c', '3c', '2c', \n",
    "    'Ad', 'Kd', 'Qd', 'Jd', '10d', '9d', '8d', '7d', '6d', '5d', '4d', '3d', '2d', \n",
    "    'As', 'Ks', 'Qs', 'Js', '10s', '9s', '8s', '7s', '6s', '5s', '4s', '3s', '2s' ]\n",
    "    round_dict={}\n",
    "    for name in list_of_players:\n",
    "        #Dealing cards\n",
    "        hand=[] #Initial hand is empty\n",
    "        for i in range(5):\n",
    "            rnd=random.randint(0,len(deck)-1)\n",
    "            hand.append(deck[rnd])\n",
    "            del deck[rnd] #The card is dealt and excluded from the deck\n",
    "        round_dict[name]=hand\n",
    "    return round_dict\n",
    "            "
   ]
  },
  {
   "cell_type": "code",
   "execution_count": 48,
   "metadata": {},
   "outputs": [
    {
     "name": "stdout",
     "output_type": "stream",
     "text": [
      "{'John': ['6h', '3d', '5d', '2d', 'Qs'], 'Peter': ['10c', '5h', 'Qh', '6c', '2s']}\n",
      "['John', 'Peter']\n",
      "\n",
      "\n",
      "{'John': ['10d', 'Kd', '3c', '2d', '9c'], 'Peter': ['2s', 'Ac', 'Jc', '3d', 'Kc']}\n",
      "['John', 'Peter']\n",
      "\n",
      "\n",
      "{'John': ['3d', '6d', '6s', '10s', '2c'], 'Peter': ['Ks', '2h', '5h', 'Kc', '4c']}\n",
      "['John', 'Peter']\n",
      "\n",
      "\n",
      "{'John': ['Jh', '9d', '3c', 'Qc', 'Ah'], 'Peter': ['5h', 'Kc', 'Js', '6h', '5s']}\n",
      "['Peter']\n",
      "\n",
      "\n",
      "{'John': ['5c', '3c', 'Qc', '7h', 'Kc'], 'Peter': ['Kd', 'Jd', 'Ad', '2d', '7c']}\n",
      "['John', 'Peter']\n",
      "\n",
      "\n",
      "{'John': ['4d', '7c', 'Ks', '5d', 'Kh'], 'Peter': ['3d', '6s', '8s', 'As', 'Kc']}\n",
      "['John']\n",
      "\n",
      "\n",
      "{'John': ['As', '4d', '3c', 'Kh', 'Qc'], 'Peter': ['9s', '5s', '10h', 'Ks', 'Qh']}\n",
      "['John', 'Peter']\n",
      "\n",
      "\n",
      "{'John': ['Jc', '6h', '4c', '2c', 'Kc'], 'Peter': ['Qh', '8h', '5s', 'Kh', '7d']}\n",
      "['John', 'Peter']\n",
      "\n",
      "\n",
      "{'John': ['7d', 'Ah', '3h', '10h', '6d'], 'Peter': ['2s', '8d', '4c', '5s', '5c']}\n",
      "['Peter']\n",
      "\n",
      "\n",
      "{'John': ['4d', '2d', '10d', '10c', '10h'], 'Peter': ['9c', '6s', '3h', '2h', '4h']}\n",
      "['John']\n",
      "\n",
      "\n"
     ]
    }
   ],
   "source": [
    "for i in range(10):\n",
    "    round_n=distribute_cards([\"John\",\"Peter\"]) \n",
    "    print(round_n)\n",
    "    print(winner_is(round_n))\n",
    "    print(\"\\n\")"
   ]
  },
  {
   "cell_type": "code",
   "execution_count": null,
   "metadata": {},
   "outputs": [],
   "source": []
  },
  {
   "cell_type": "code",
   "execution_count": null,
   "metadata": {},
   "outputs": [],
   "source": []
  }
 ],
 "metadata": {
  "kernelspec": {
   "display_name": "Python 3",
   "language": "python",
   "name": "python3"
  },
  "language_info": {
   "codemirror_mode": {
    "name": "ipython",
    "version": 3
   },
   "file_extension": ".py",
   "mimetype": "text/x-python",
   "name": "python",
   "nbconvert_exporter": "python",
   "pygments_lexer": "ipython3",
   "version": "3.7.6"
  }
 },
 "nbformat": 4,
 "nbformat_minor": 4
}
