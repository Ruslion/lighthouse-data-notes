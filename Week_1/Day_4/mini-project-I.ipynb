{
 "cells": [
  {
   "cell_type": "markdown",
   "metadata": {},
   "source": [
    "# Mini-Project I\n",
    "During this project, we will practice handling of complex lists and dictionaries in Python. Plus, we will learn how to work with API documentation. Don't be afraid to search for the information in the [**documentation**](https://api.tfl.gov.uk/swagger/ui/index.html?url=/swagger/docs/v1#!/AccidentStats/AccidentStats_Get).\n",
    "\n",
    "Let's go to the tasks, we have some parsing to do :)!!"
   ]
  },
  {
   "cell_type": "code",
   "execution_count": 1,
   "metadata": {},
   "outputs": [],
   "source": [
    "# import packages we need (remember what packages we used yesterday during the API session)\n",
    "# IMPORT HERE\n",
    "import os\n",
    "import requests\n",
    "import pprint #Thanks to Chris"
   ]
  },
  {
   "cell_type": "markdown",
   "metadata": {},
   "source": [
    "## Demo"
   ]
  },
  {
   "cell_type": "code",
   "execution_count": 2,
   "metadata": {},
   "outputs": [],
   "source": [
    "# don't forget package os\n",
    "app_id = os.environ[\"TRANSPORT_LONDON_KEY\"]\n",
    "app_key = os.environ[\"TRANSPORT_LONDON_KEY2\"]\n"
   ]
  },
  {
   "cell_type": "code",
   "execution_count": 3,
   "metadata": {},
   "outputs": [],
   "source": [
    "def req_result(url, params):\n",
    "    params[\"api_key\"]=app_key\n",
    "    params[\"api_id\"]=app_id\n",
    "    res=requests.get(url, params)\n",
    "    return res.json()"
   ]
  },
  {
   "cell_type": "code",
   "execution_count": null,
   "metadata": {},
   "outputs": [],
   "source": [
    "# URL\n",
    "url = \"https://api.tfl.gov.uk/AirQuality\"\n",
    "#pprint.pprint(req_result(url,{}))"
   ]
  },
  {
   "cell_type": "code",
   "execution_count": 5,
   "metadata": {},
   "outputs": [],
   "source": [
    "# We can export the information that was returned using method .json()\n",
    "#res.json()"
   ]
  },
  {
   "cell_type": "code",
   "execution_count": 6,
   "metadata": {},
   "outputs": [],
   "source": [
    "dict_weather= req_result(url,{})\n",
    "#pprint.pprint(dict_weather)"
   ]
  },
  {
   "cell_type": "markdown",
   "metadata": {},
   "source": [
    "## Task\n",
    "Parse the dictionary and print the AirQuality predictions for tomorrow"
   ]
  },
  {
   "cell_type": "code",
   "execution_count": 7,
   "metadata": {},
   "outputs": [
    {
     "name": "stdout",
     "output_type": "stream",
     "text": [
      "<class 'str'>\n"
     ]
    }
   ],
   "source": [
    "weather_forecast = dict_weather['currentForecast'][1]['forecastText']\n",
    "\n",
    "#print(weather_forecast)\n",
    "print(type(weather_forecast))"
   ]
  },
  {
   "cell_type": "code",
   "execution_count": 8,
   "metadata": {
    "scrolled": true
   },
   "outputs": [
    {
     "name": "stdout",
     "output_type": "stream",
     "text": [
      "Forecast for tommorow\n",
      "\n",
      "Widespread frost and freezing fog patches on Saturday and Sunday, slow to clear in places. Dry and sunny otherwise.  Winds are set to remain light and northerly so little in the way of pollution import.\n",
      "\n",
      "Air pollution is expected to remain low for the following pollutants:\n",
      "\n",
      "Nitrogen Dioxide\n",
      "Ozone\n",
      "PM10 Particulate\n",
      "PM2.5 Particulate\n",
      "Sulphur Dioxide\n",
      "\n",
      "\n",
      "\n"
     ]
    }
   ],
   "source": [
    "print(\"Forecast for tommorow\\n\")\n",
    "print(weather_forecast.replace(\"&lt;br/&gt;\",\"\\n\"))"
   ]
  },
  {
   "cell_type": "markdown",
   "metadata": {},
   "source": [
    "## Task\n",
    "What are the different modes of transport which are operated by Transfer for London? How many of modes do they have?\n",
    "\n",
    "Print the list with different modes of transport, plus their count. Example output:\n",
    "```\n",
    "[bus, cable-car,.....]\n",
    "Number of different modes of transport is: xyz\n",
    "```\n",
    "\n",
    "We need to search the documentation for correct request."
   ]
  },
  {
   "cell_type": "code",
   "execution_count": 9,
   "metadata": {},
   "outputs": [],
   "source": [
    "url = \"https://api.tfl.gov.uk/Line/Meta/Modes\"\n"
   ]
  },
  {
   "cell_type": "code",
   "execution_count": 11,
   "metadata": {},
   "outputs": [
    {
     "name": "stdout",
     "output_type": "stream",
     "text": [
      "['bus', 'cable-car', 'coach', 'cycle', 'cycle-hire', 'dlr', 'interchange-keep-sitting', 'interchange-secure', 'national-rail', 'overground', 'replacement-bus', 'river-bus', 'river-tour', 'taxi', 'tflrail', 'tram', 'tube', 'walking']\n",
      "18\n"
     ]
    }
   ],
   "source": [
    "lst_trans_mode=[item[\"modeName\"] for item in req_result(url,{})]\n",
    "\n",
    "print(lst_trans_mode)\n",
    "print(len(lst_trans_mode))"
   ]
  },
  {
   "cell_type": "markdown",
   "metadata": {},
   "source": [
    "## Task\n",
    "How many BikePoints in London are operated by Transfor for London? How many docks are in **all** BikePoints? There is the information for empty and full docks for each BikePoint."
   ]
  },
  {
   "cell_type": "code",
   "execution_count": 19,
   "metadata": {},
   "outputs": [],
   "source": [
    "url=\"https://api.tfl.gov.uk/BikePoint/\""
   ]
  },
  {
   "cell_type": "code",
   "execution_count": 21,
   "metadata": {},
   "outputs": [],
   "source": [
    "#pprint.pprint(req_result(url,{}))"
   ]
  },
  {
   "cell_type": "code",
   "execution_count": 18,
   "metadata": {},
   "outputs": [],
   "source": [
    "bike_points_list = req_result(url,{})"
   ]
  },
  {
   "cell_type": "code",
   "execution_count": null,
   "metadata": {},
   "outputs": [],
   "source": []
  },
  {
   "cell_type": "code",
   "execution_count": 22,
   "metadata": {},
   "outputs": [
    {
     "name": "stdout",
     "output_type": "stream",
     "text": [
      "7\n",
      "0\n"
     ]
    }
   ],
   "source": [
    "sum_of_docks=0\n",
    "count_of_bike_points=0\n",
    "for bike_point in bike_points_list:\n",
    "    count_of_bike_points+=1\n",
    "    try:\n",
    "        for properties in bike_point[\"additionalProperties\"]:\n",
    "            if properties['key']=='NbDocks':\n",
    "                sum_of_docks+=int(properties['value'])\n",
    "    except:\n",
    "        pass\n",
    "print(count_of_bike_points)\n",
    "print(sum_of_docks)"
   ]
  },
  {
   "cell_type": "markdown",
   "metadata": {},
   "source": [
    "## Task\n",
    "How many tube and bus lines are in London? Print names of all tube lines."
   ]
  },
  {
   "cell_type": "code",
   "execution_count": 23,
   "metadata": {},
   "outputs": [
    {
     "name": "stdout",
     "output_type": "stream",
     "text": [
      "['Bakerloo', 'Central', 'Circle', 'District', 'Hammersmith & City', 'Jubilee', 'Metropolitan', 'Northern', 'Piccadilly', 'Victoria', 'Waterloo & City']\n",
      "11\n"
     ]
    }
   ],
   "source": [
    "url=\"https://api.tfl.gov.uk/Line/Mode/tube/Route\"\n",
    "\n",
    "#pprint.pprint(res.json())\n",
    "list_tube_stations=[item[\"name\"] for item in req_result(url,{})]\n",
    "print(list_tube_stations)\n",
    "print(len(list_tube_stations))"
   ]
  },
  {
   "cell_type": "code",
   "execution_count": 24,
   "metadata": {},
   "outputs": [
    {
     "name": "stdout",
     "output_type": "stream",
     "text": [
      "678\n"
     ]
    }
   ],
   "source": [
    "url=\"https://api.tfl.gov.uk/Line/Mode/bus/Route\"\n",
    "\n",
    "#pprint.pprint(res.json())\n",
    "list_bus_stations=[item[\"name\"] for item in req_result(url,{})]\n",
    "print(len(list_bus_stations))"
   ]
  },
  {
   "cell_type": "code",
   "execution_count": null,
   "metadata": {},
   "outputs": [],
   "source": []
  },
  {
   "cell_type": "markdown",
   "metadata": {},
   "source": [
    "## Task\n",
    "How many station has `victoria` line?"
   ]
  },
  {
   "cell_type": "code",
   "execution_count": 25,
   "metadata": {},
   "outputs": [],
   "source": [
    "url=\"https://api.tfl.gov.uk/Line/Search/Victoria\"\n"
   ]
  },
  {
   "cell_type": "code",
   "execution_count": 27,
   "metadata": {},
   "outputs": [],
   "source": [
    "#req_result(url,{})"
   ]
  },
  {
   "cell_type": "code",
   "execution_count": 28,
   "metadata": {},
   "outputs": [],
   "source": [
    "url=\"https://api.tfl.gov.uk/Line/victoria/StopPoints\"\n"
   ]
  },
  {
   "cell_type": "code",
   "execution_count": 30,
   "metadata": {},
   "outputs": [],
   "source": [
    "#pprint.pprint(req_result(url,{}))\n"
   ]
  },
  {
   "cell_type": "code",
   "execution_count": 31,
   "metadata": {},
   "outputs": [
    {
     "name": "stdout",
     "output_type": "stream",
     "text": [
      "16\n",
      "['Blackhorse Road Underground Station',\n",
      " 'Brixton Underground Station',\n",
      " 'Euston Underground Station',\n",
      " 'Finsbury Park Underground Station',\n",
      " 'Green Park Underground Station',\n",
      " 'Highbury & Islington Underground Station',\n",
      " \"King's Cross St. Pancras Underground Station\",\n",
      " 'Oxford Circus Underground Station',\n",
      " 'Pimlico Underground Station',\n",
      " 'Stockwell Underground Station',\n",
      " 'Seven Sisters Underground Station',\n",
      " 'Tottenham Hale Underground Station',\n",
      " 'Victoria Underground Station',\n",
      " 'Vauxhall Underground Station',\n",
      " 'Warren Street Underground Station',\n",
      " 'Walthamstow Central Underground Station']\n"
     ]
    }
   ],
   "source": [
    "count_stations=0\n",
    "list_of_stations=[]\n",
    "for station in req_result(url,{}):\n",
    "    count_stations+=1\n",
    "    list_of_stations.append(station['commonName'])\n",
    "print(count_stations)\n",
    "pprint.pprint(list_of_stations)"
   ]
  },
  {
   "cell_type": "markdown",
   "metadata": {},
   "source": [
    "## Task\n",
    "Plan the journey from Heathrow Airport to Tower Bridge using Bus and Tube? Which way is faster? Example output:\n",
    "```\n",
    "Planned duration:\n",
    "Bus: x minutes\n",
    "Tube: y minutes\n",
    "```\n",
    "\n",
    "We need to search the documentation for correct requests and parameters we need."
   ]
  },
  {
   "cell_type": "code",
   "execution_count": 32,
   "metadata": {},
   "outputs": [],
   "source": [
    "url=\"https://api.tfl.gov.uk/Journey/JourneyResults/Hillingdon, Heathrow Airport Terminal 2/to/City of London, Tower Bridge\"\n",
    "#51.471,0.452/to/51.505153,-0.075664\n"
   ]
  },
  {
   "cell_type": "code",
   "execution_count": 34,
   "metadata": {},
   "outputs": [],
   "source": [
    "#pprint.pprint(req_result(url,{'mode':'bus'}))"
   ]
  },
  {
   "cell_type": "code",
   "execution_count": 35,
   "metadata": {},
   "outputs": [],
   "source": [
    "json_list=req_result(url,{'mode':'bus'})"
   ]
  },
  {
   "cell_type": "code",
   "execution_count": 36,
   "metadata": {},
   "outputs": [
    {
     "name": "stdout",
     "output_type": "stream",
     "text": [
      "156\n"
     ]
    }
   ],
   "source": [
    "bus_minutes=min([item['duration'] for item in json_list['journeys']])\n",
    "\n",
    "pprint.pprint(bus_minutes)"
   ]
  },
  {
   "cell_type": "code",
   "execution_count": 37,
   "metadata": {},
   "outputs": [
    {
     "name": "stdout",
     "output_type": "stream",
     "text": [
      "83\n"
     ]
    }
   ],
   "source": [
    "json_list=req_result(url,{'mode':'tube'})\n",
    "tube_minutes=min([item['duration'] for item in json_list['journeys']])\n",
    "print(tube_minutes)"
   ]
  },
  {
   "cell_type": "code",
   "execution_count": 38,
   "metadata": {},
   "outputs": [
    {
     "name": "stdout",
     "output_type": "stream",
     "text": [
      "Planned duration:\n",
      "Bus: 156\n",
      "Tube: 83\n"
     ]
    }
   ],
   "source": [
    "print(\"Planned duration:\")\n",
    "print(f\"Bus: {bus_minutes}\")\n",
    "print(f\"Tube: {tube_minutes}\")"
   ]
  },
  {
   "cell_type": "code",
   "execution_count": null,
   "metadata": {},
   "outputs": [],
   "source": []
  }
 ],
 "metadata": {
  "kernelspec": {
   "display_name": "Python 3",
   "language": "python",
   "name": "python3"
  },
  "language_info": {
   "codemirror_mode": {
    "name": "ipython",
    "version": 3
   },
   "file_extension": ".py",
   "mimetype": "text/x-python",
   "name": "python",
   "nbconvert_exporter": "python",
   "pygments_lexer": "ipython3",
   "version": "3.7.6"
  }
 },
 "nbformat": 4,
 "nbformat_minor": 4
}
