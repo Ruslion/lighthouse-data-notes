{
 "cells": [
  {
   "cell_type": "markdown",
   "metadata": {
    "slideshow": {
     "slide_type": "slide"
    }
   },
   "source": [
    "# About myself\n",
    "\n",
    "My name is Ruslan<br>\n",
    "Uralsk, West Kazakhstan\n",
    "\n",
    "**Bachelor Degrees:**\n",
    "- Informatics\n",
    "- Automation and Control\n",
    "\n",
    "**Experience:**\n",
    "- Automation Engineer (current work)\n",
    "- Process Hazard Analyst\n",
    "- System/Database Administrator\n",
    "\n"
   ]
  },
  {
   "cell_type": "code",
   "execution_count": 13,
   "metadata": {
    "slideshow": {
     "slide_type": "slide"
    }
   },
   "outputs": [
    {
     "name": "stdout",
     "output_type": "stream",
     "text": [
      "2021-01-09 00:42:23.234085\n"
     ]
    }
   ],
   "source": [
    "import datetime\n",
    "print(datetime.datetime.now())"
   ]
  },
  {
   "cell_type": "markdown",
   "metadata": {
    "slideshow": {
     "slide_type": "slide"
    }
   },
   "source": [
    "## Movies project\n",
    "In this part of mini-project, we need to have our API-KEY ready because this API won't work without it.\n",
    "\n",
    "We encourage you to look for correct endpoints in [the documentation](https://developers.themoviedb.org/3/account). We can also play around with requests there before copying them to Python."
   ]
  },
  {
   "cell_type": "code",
   "execution_count": 4,
   "metadata": {
    "slideshow": {
     "slide_type": "slide"
    }
   },
   "outputs": [],
   "source": [
    "import os\n",
    "import requests\n",
    "import pprint #Thanks to Chris\n",
    "from config import TMDB_API_KEY"
   ]
  },
  {
   "cell_type": "code",
   "execution_count": 5,
   "metadata": {
    "slideshow": {
     "slide_type": "fragment"
    }
   },
   "outputs": [],
   "source": [
    "def req_result(url, params):\n",
    "    '''This function recives url and dictionary with paramaters and return JSON data as List/Dictionary'''\n",
    "    '''function(url, parameters) -> json()'''\n",
    "    params[\"api_key\"]=TMDB_API_KEY\n",
    "    res=requests.get(url, params)\n",
    "    return res.json()"
   ]
  },
  {
   "cell_type": "markdown",
   "metadata": {
    "slideshow": {
     "slide_type": "slide"
    }
   },
   "source": [
    "## Task\n",
    "Search for you favorite movie and return the information about the movie:\n",
    "- name\n",
    "- release date\n",
    "- runtime\n",
    "- revenue\n",
    "- length of the overview\n",
    "- number of votes\n",
    "- voting average"
   ]
  },
  {
   "cell_type": "code",
   "execution_count": 4,
   "metadata": {
    "slideshow": {
     "slide_type": "slide"
    }
   },
   "outputs": [],
   "source": [
    "url = \"https://api.themoviedb.org/3/search/movie\"\n",
    "dict_query={\"query\" : 'The Big Short'}"
   ]
  },
  {
   "cell_type": "code",
   "execution_count": 5,
   "metadata": {
    "slideshow": {
     "slide_type": "fragment"
    }
   },
   "outputs": [
    {
     "name": "stdout",
     "output_type": "stream",
     "text": [
      "318846\n"
     ]
    }
   ],
   "source": [
    "dict_movies=req_result(url, dict_query)\n",
    "pprint.pprint(dict_movies['results'][0]['id'])"
   ]
  },
  {
   "cell_type": "code",
   "execution_count": 6,
   "metadata": {
    "slideshow": {
     "slide_type": "fragment"
    }
   },
   "outputs": [],
   "source": [
    "url = \"https://api.themoviedb.org/3/movie/318846\""
   ]
  },
  {
   "cell_type": "code",
   "execution_count": 7,
   "metadata": {
    "slideshow": {
     "slide_type": "fragment"
    }
   },
   "outputs": [],
   "source": [
    "#pprint.pprint(req_result(url,{}))\n",
    "dict_movies=req_result(url,{})"
   ]
  },
  {
   "cell_type": "code",
   "execution_count": 8,
   "metadata": {
    "slideshow": {
     "slide_type": "fragment"
    }
   },
   "outputs": [
    {
     "name": "stdout",
     "output_type": "stream",
     "text": [
      "Movie title:  The Big Short\n",
      "Movie release date:  2015-12-11\n",
      "Movie runtime:  131\n",
      "Movie revenue:  133346506\n",
      "Movie overview:  The men who made millions from a global economic meltdown.\n",
      "Movie length of overview:  58\n",
      "Movie vote count: 6288\n",
      "Movie vote average:  7.3\n"
     ]
    }
   ],
   "source": [
    "print('Movie title: ' , dict_movies['title'])\n",
    "print('Movie release date: ' , dict_movies['release_date'])\n",
    "print('Movie runtime: ' , dict_movies['runtime'])\n",
    "print('Movie revenue: ' , dict_movies['revenue'])\n",
    "print('Movie overview: ' , dict_movies['overview'])\n",
    "print('Movie length of overview: ' , len(dict_movies['overview']))\n",
    "print('Movie vote count:' , dict_movies['vote_count'])\n",
    "print('Movie vote average: ' , dict_movies['vote_average'])"
   ]
  },
  {
   "cell_type": "markdown",
   "metadata": {
    "slideshow": {
     "slide_type": "slide"
    }
   },
   "source": [
    "## Task\n",
    "Search for you favorite actor/actress and return the information about him/her:\n",
    "- name\n",
    "- date of birth\n",
    "- place of birth\n",
    "- length of the biography"
   ]
  },
  {
   "cell_type": "code",
   "execution_count": 9,
   "metadata": {
    "slideshow": {
     "slide_type": "slide"
    }
   },
   "outputs": [],
   "source": [
    "url = \"https://api.themoviedb.org/3/search/person\"\n",
    "dict_query={\"query\" : 'Leonardo DiCaprio'}"
   ]
  },
  {
   "cell_type": "code",
   "execution_count": 10,
   "metadata": {
    "scrolled": true,
    "slideshow": {
     "slide_type": "fragment"
    }
   },
   "outputs": [],
   "source": [
    "#pprint.pprint(req_result(url,dict_query))"
   ]
  },
  {
   "cell_type": "code",
   "execution_count": 11,
   "metadata": {
    "scrolled": true,
    "slideshow": {
     "slide_type": "fragment"
    }
   },
   "outputs": [],
   "source": [
    "url = \"https://api.themoviedb.org/3/person/6193\"\n",
    "fav_actor=req_result(url,{})\n",
    "#pprint.pprint(fav_actor)\n"
   ]
  },
  {
   "cell_type": "code",
   "execution_count": 12,
   "metadata": {
    "slideshow": {
     "slide_type": "fragment"
    }
   },
   "outputs": [
    {
     "name": "stdout",
     "output_type": "stream",
     "text": [
      "Name: Leonardo DiCaprio\n",
      "Birthday: 1974-11-11\n",
      "Place of birth: Los Angeles, California, USA\n",
      "Length of biography: 867\n"
     ]
    }
   ],
   "source": [
    "print(f\"Name: {fav_actor['name']}\")\n",
    "print(f\"Birthday: {fav_actor['birthday']}\")\n",
    "print(f\"Place of birth: {fav_actor['place_of_birth']}\")\n",
    "print(f\"Length of biography: {len(fav_actor['biography'])}\")"
   ]
  },
  {
   "cell_type": "markdown",
   "metadata": {
    "slideshow": {
     "slide_type": "slide"
    }
   },
   "source": [
    "## Task\n",
    "Search for you favorite tv-show and return the information about it:\n",
    "- name\n",
    "- first air date\n",
    "- number of seasons\n",
    "- number of episodes\n",
    "- genres"
   ]
  },
  {
   "cell_type": "code",
   "execution_count": 13,
   "metadata": {
    "slideshow": {
     "slide_type": "slide"
    }
   },
   "outputs": [],
   "source": [
    "url = \"https://api.themoviedb.org/3/search/tv\"\n",
    "fav_tv=req_result(url,{\"query\":\"Breaking Bad\"})"
   ]
  },
  {
   "cell_type": "code",
   "execution_count": 14,
   "metadata": {
    "slideshow": {
     "slide_type": "fragment"
    }
   },
   "outputs": [],
   "source": [
    "#pprint.pprint(fav_tv)"
   ]
  },
  {
   "cell_type": "code",
   "execution_count": 15,
   "metadata": {
    "scrolled": false,
    "slideshow": {
     "slide_type": "fragment"
    }
   },
   "outputs": [],
   "source": [
    "url = \"https://api.themoviedb.org/3/tv/1396\"\n",
    "fav_tv=req_result(url,{})\n",
    "#pprint.pprint(fav_tv)"
   ]
  },
  {
   "cell_type": "code",
   "execution_count": 16,
   "metadata": {
    "slideshow": {
     "slide_type": "fragment"
    }
   },
   "outputs": [
    {
     "name": "stdout",
     "output_type": "stream",
     "text": [
      "Name: Breaking Bad\n",
      "First air date: 2008-01-20\n",
      "Number of seasons: 5\n",
      "Number of episodes: 62\n",
      "Genres: ['Drama']\n"
     ]
    }
   ],
   "source": [
    "print(f\"Name: {fav_tv['name']}\")\n",
    "print(f\"First air date: {fav_tv['first_air_date']}\")\n",
    "print(f\"Number of seasons: {fav_tv['number_of_seasons']}\")\n",
    "print(f\"Number of episodes: {fav_tv['number_of_episodes']}\")\n",
    "genres=[item['name'] for item in fav_tv['genres']]\n",
    "print(f\"Genres: {genres}\")\n"
   ]
  },
  {
   "cell_type": "markdown",
   "metadata": {
    "slideshow": {
     "slide_type": "slide"
    }
   },
   "source": [
    "## Task \n",
    "Find top 5 trending:\n",
    "- movies\n",
    "- tv-shows\n",
    "- people"
   ]
  },
  {
   "cell_type": "code",
   "execution_count": 12,
   "metadata": {
    "slideshow": {
     "slide_type": "slide"
    }
   },
   "outputs": [],
   "source": [
    "def trending(trending_data, name_key):\n",
    "    '''This functions recieves data dictionary and the name_key as parameters'''\n",
    "    '''function(data as dictionary, name_key as string) -> dictionary'''\n",
    "    result_dict={}\n",
    "    \n",
    "    for item in trending_data['results']:\n",
    "        result_dict[item[name_key]]=int(item['popularity'])\n",
    "\n",
    "    sorted_values = sorted(result_dict.values()) # Sort the values\n",
    "\n",
    "    sorted_values = sorted_values[-5:]\n",
    "\n",
    "    sorted_dict = {}\n",
    "\n",
    "    for i in range(len(sorted_values)-1, -1,-1):\n",
    "        for k in result_dict.keys():\n",
    "            if result_dict[k] == sorted_values[i]:\n",
    "                sorted_dict[k] = result_dict[k]\n",
    "                break\n",
    "    return sorted_dict"
   ]
  },
  {
   "cell_type": "code",
   "execution_count": 11,
   "metadata": {
    "scrolled": true,
    "slideshow": {
     "slide_type": "slide"
    }
   },
   "outputs": [
    {
     "name": "stdout",
     "output_type": "stream",
     "text": [
      "Top 5 trending movies:\n",
      "{'Wonder Woman 1984': 4167, 'Soul': 3283, 'The Midnight Sky': 2058, 'We Can Be Heroes': 1857, 'Honest Thief': 1321}\n"
     ]
    }
   ],
   "source": [
    "url=\"https://api.themoviedb.org/3/trending/movie/week\"\n",
    "trending_movie=req_result(url,{})\n",
    "\n",
    "print(\"Top 5 trending movies:\")\n",
    "print(trending(trending_movie,\"title\"))"
   ]
  },
  {
   "cell_type": "code",
   "execution_count": 10,
   "metadata": {
    "slideshow": {
     "slide_type": "fragment"
    }
   },
   "outputs": [
    {
     "name": "stdout",
     "output_type": "stream",
     "text": [
      "Top 5 trending tv shows:\n",
      "{'Cobra Kai': 1495, 'Chilling Adventures of Sabrina': 1097, 'Vikings': 1022, 'The Mandalorian': 933, 'Sweet Home': 467}\n"
     ]
    }
   ],
   "source": [
    "url=\"https://api.themoviedb.org/3/trending/tv/week\"\n",
    "trending_tv=req_result(url,{})\n",
    "# pprint.pprint(trending_tv)\n",
    "\n",
    "\n",
    "print(\"Top 5 trending tv shows:\")\n",
    "print(trending(trending_tv,\"name\"))"
   ]
  },
  {
   "cell_type": "code",
   "execution_count": 9,
   "metadata": {
    "scrolled": true,
    "slideshow": {
     "slide_type": "fragment"
    }
   },
   "outputs": [
    {
     "name": "stdout",
     "output_type": "stream",
     "text": [
      "Top 5 trending persons:\n",
      "{'Gal Gadot': 41, 'Scarlett Johansson': 33, 'Bruce Willis': 29, 'Tom Hanks': 25, 'Tom Cruise': 21}\n"
     ]
    }
   ],
   "source": [
    "url=\"https://api.themoviedb.org/3/trending/person/week\"\n",
    "trending_people=req_result(url,{})\n",
    "#pprint.pprint(trending_people)\n",
    "\n",
    "print(\"Top 5 trending persons:\")\n",
    "print(trending(trending_people,\"name\"))"
   ]
  },
  {
   "cell_type": "markdown",
   "metadata": {
    "slideshow": {
     "slide_type": "slide"
    }
   },
   "source": [
    "## <center>Questions?"
   ]
  }
 ],
 "metadata": {
  "celltoolbar": "Slideshow",
  "kernelspec": {
   "display_name": "Python 3",
   "language": "python",
   "name": "python3"
  },
  "language_info": {
   "codemirror_mode": {
    "name": "ipython",
    "version": 3
   },
   "file_extension": ".py",
   "mimetype": "text/x-python",
   "name": "python",
   "nbconvert_exporter": "python",
   "pygments_lexer": "ipython3",
   "version": "3.7.6"
  }
 },
 "nbformat": 4,
 "nbformat_minor": 4
}
