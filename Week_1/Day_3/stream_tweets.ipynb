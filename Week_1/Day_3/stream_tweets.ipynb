{
 "cells": [
  {
   "cell_type": "code",
   "execution_count": 33,
   "metadata": {},
   "outputs": [],
   "source": [
    "import twitter\n",
    "import json\n",
    "import os\n",
    "import requests as req\n",
    "import datetime\n",
    "# ADD OTHER PACKAGES WE WILL NEED\n",
    "# <HERE>"
   ]
  },
  {
   "cell_type": "markdown",
   "metadata": {},
   "source": [
    "**Task:** Load the values of access tokens and keys from environmental variables to python variables"
   ]
  },
  {
   "cell_type": "code",
   "execution_count": 34,
   "metadata": {},
   "outputs": [],
   "source": [
    "consumer_key = os.environ[\"TWITTER_KEY\"]\n",
    "consumer_secret = os.environ[\"TWITTER_SECRET\"]\n",
    "access_token = os.environ[\"TWITTER_TOKEN_ACCESS\"]\n",
    "access_token_secret = os.environ[\"TWITTER_TOKEN_SECRET\"]"
   ]
  },
  {
   "cell_type": "code",
   "execution_count": 35,
   "metadata": {},
   "outputs": [],
   "source": [
    "api = twitter.Api(consumer_key=consumer_key,\n",
    "                  consumer_secret=consumer_secret,\n",
    "                 access_token_key=access_token,\n",
    "                 access_token_secret=access_token_secret)"
   ]
  },
  {
   "cell_type": "code",
   "execution_count": 36,
   "metadata": {},
   "outputs": [
    {
     "name": "stdout",
     "output_type": "stream",
     "text": [
      "<class 'twitter.api.Api'>\n"
     ]
    }
   ],
   "source": [
    "# Checking the type of api object\n",
    "print(type(api))"
   ]
  },
  {
   "cell_type": "code",
   "execution_count": 46,
   "metadata": {},
   "outputs": [],
   "source": [
    "## FOLLOWING FUNCTION WILL COLLECT REAL-TIME TWEETS IN OUR COMPUTER\n",
    "\n",
    "# data returned will be for any tweet mentioning strings in the list FILTER\n",
    "#FILTER = ['#datascience']\n",
    "\n",
    "# Languages to filter tweets by is a list. This will be joined by Twitter\n",
    "# to return data mentioning tweets only in the english language.\n",
    "#LANGUAGES = ['en']\n",
    "\n",
    "\n",
    "def main():\n",
    "    date_now=datetime.datetime.now()\n",
    "    date_now = date_now.strftime(\"%Y-%m-%d %Hh%Mm%Ss\")\n",
    "    with open(input(\"Please select folder to store the data: \") + \"\\output \" + str(date_now) + \".txt\", 'a') as f:\n",
    "        # api.GetStreamFilter will return a generator that yields one status\n",
    "        # message (i.e., Tweet) at a time as a JSON dictionary.\n",
    "        count=0\n",
    "        filter_str= input(\"Please input filter (use ',' as a delimiter): \")\n",
    "        list_filter=filter_str.split(\",\")\n",
    "        lang_str=input(\"Please input languages (use ',' as a delimiter): \")\n",
    "        list_lang = lang_str.split(\",\")\n",
    "        for line in api.GetStreamFilter(track=list_filter, languages=list_lang):\n",
    "            f.write(json.dumps(line))\n",
    "            f.write('\\n')\n",
    "            count+=1\n",
    "            if count > 200: #This is implemeted to limit the number of tweets\n",
    "                f.close()\n",
    "                break\n",
    "        return"
   ]
  },
  {
   "cell_type": "code",
   "execution_count": 47,
   "metadata": {
    "jupyter": {
     "outputs_hidden": true
    }
   },
   "outputs": [
    {
     "name": "stdout",
     "output_type": "stream",
     "text": [
      "Please select folder to store the data: C:\\Users\\Beasty\n",
      "Please input filter (use ',' as a delimiter): datascience,trump,capitol\n",
      "Please input languages (use ',' as a delimiter): en\n"
     ]
    }
   ],
   "source": [
    "# Execute function\n",
    "main()"
   ]
  },
  {
   "cell_type": "markdown",
   "metadata": {},
   "source": [
    "**Task:** Edit function `main` so it can store tweets anywhere (location specified as parameter). The FILTER and LANGUAGES should be parameters as well. Test it with different values and languages."
   ]
  },
  {
   "cell_type": "markdown",
   "metadata": {},
   "source": [
    "**Task:** Create File `stream_tweets.py` that can be executed from the Terminal"
   ]
  },
  {
   "cell_type": "markdown",
   "metadata": {},
   "source": [
    "**Task:** Start storing tweets with either happy smiley (`:)`) or sad smiley (`:(`). We will use this dataset during the NLP section."
   ]
  },
  {
   "cell_type": "code",
   "execution_count": null,
   "metadata": {},
   "outputs": [],
   "source": []
  }
 ],
 "metadata": {
  "kernelspec": {
   "display_name": "Python 3",
   "language": "python",
   "name": "python3"
  },
  "language_info": {
   "codemirror_mode": {
    "name": "ipython",
    "version": 3
   },
   "file_extension": ".py",
   "mimetype": "text/x-python",
   "name": "python",
   "nbconvert_exporter": "python",
   "pygments_lexer": "ipython3",
   "version": "3.7.6"
  }
 },
 "nbformat": 4,
 "nbformat_minor": 4
}
